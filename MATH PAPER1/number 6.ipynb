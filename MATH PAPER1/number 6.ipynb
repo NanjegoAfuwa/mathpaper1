{
 "cells": [
  {
   "cell_type": "code",
   "execution_count": 26,
   "id": "79839587-3eeb-4108-907c-10af4e1887d5",
   "metadata": {},
   "outputs": [],
   "source": [
    "from numpy import random"
   ]
  },
  {
   "cell_type": "code",
   "execution_count": 27,
   "id": "34d8957d-c826-427a-b464-19e0a6392e67",
   "metadata": {},
   "outputs": [],
   "source": [
    "import seaborn as sns"
   ]
  },
  {
   "cell_type": "markdown",
   "id": "b3c67e74-cfc5-4fe8-a234-caf3c2fd9f49",
   "metadata": {},
   "source": [
    "# i)"
   ]
  },
  {
   "cell_type": "code",
   "execution_count": 28,
   "id": "8a8614e6-11e0-4c24-aa7a-7c5ee01b233c",
   "metadata": {},
   "outputs": [
    {
     "name": "stdout",
     "output_type": "stream",
     "text": [
      "[ 7  5  9  3  3  5  3  6  3  4  7  0  5  2  6  5  5  4  8  3  8  4  4  5\n",
      "  7  5  9  7  7  6  4  8  8  5  5  8  3  6  7  3  4  4  5  5  4  3  9  4\n",
      "  0  5  6  3  3  7  2 13  3  4  4  5  3  5  4  2  5  2  4  1  9  6  8 10\n",
      "  4  2  5  6  2  8  3  2  5  7  7  3  6  2  2  9  2  7  4  4  7  7  1  8\n",
      " 10  4  4  3  2  3  1  8  3  2  7  4  7  1  5  5  7  6  4  2  7  1  8  1\n",
      "  3  9  5  2  3  8  6  2  4  7  4  3  4  6  6  5  6  5  4  4  8  4  6  5\n",
      "  7  8  7  3  8  5 14  4  5  6  3  5  3 12  6  5  3  1  8  9  9  4  5  5\n",
      "  5  1  9  5  6  4  6  6  4  2  7  6  7  4  6  3  5  6  2  9  3  4  3  6\n",
      "  5  6  5 10  2  5  5  4  5  4  6  8  6  4  6  5  5  5  3  4  6  2  6  3\n",
      "  3  3  3  5  2  7  6  8  4  8 14  0  5  5  5  6  6  5  3  5  3  3  6  2\n",
      "  2  5  3  6  5  3  4  5  3  6  9  5  8  5  5  4  6  6  1  7  5  8  3  7\n",
      "  2  4  4  5  6  2  5  6  6  6  6  6  9  3  2  3  4  5  2  5  4  7  8  3\n",
      "  3  5  7 11  8  6  4  6  2  4  5  7  9  6  3  6  2  9  3  6  7  6  5  7\n",
      "  7  1  5  3  9  2  9  7  7  6  1  4  5  1  4  8  2  5  5  7  5  5  7  6\n",
      "  3  9  7  5  4  5  4  7  5  7  5  3  7  5  3  5  5  5  5  7  5  7  6  3\n",
      "  4  4  3  4  6  3  6  8  6 11  3  7  5  6  9  5  2  8  7  4  6  3  1  7\n",
      "  2  6  7  6  6  2  4  2  3  2  5  1  5  6  6  6  9  5  7  8  3  6  8  2\n",
      "  5  3  7  5  5  2  8  8  6  3  6  4  4  5  4  9 11  5  3  1  7  2  6  4\n",
      "  3  2  2  4  2  4  8  5  8  3  8  2  5  4  4  9  8  6  3  5  5  2  8  1\n",
      "  5  6  5 10  9  4  6  4  3  2  5  3  4  5  4  5  7  3  8  4  7  6  7  2\n",
      "  5  4  8  7  3  4  3  4  3  5  4  4  5  2  6  3  5  7  2  6  8  9  2  3\n",
      "  2  0 11  7  5  4  4  6  7  4  8  5  5  6  3  6  7  3  5  6  5  3 10  6\n",
      "  5  2  8  5  5  3  3 12  6  3  5  6  7  6  5  9  6  1  6  4  7  4  7  8\n",
      "  2  2  3  9  9  5  3  4  4  8  3  3  4  7  4  2  5  2  6  7  4  5  5  3\n",
      "  2  7  4 10  8  6  5  4  2  4  3  6  9  2  7  7  3  1  9  3  5  9  6  2\n",
      "  7  4  3  5  5  4  5  5  3  2  5  5  7  7  6  4  6  4  3  3  2  2  8 10\n",
      "  3  7  6  7  6  8  8  5  6  3  4  4  4  7  7  8  5  6  6  8  5  4  8  4\n",
      " 10  3  4  3  5  5  4  9  3  9  7  4  3 10  6  6  4  7  2  5  5  5  4  7\n",
      "  3  5  8  1  3  8  6  5  6  7  2  5  5  4  5  3  9  6  2  3  4  3  5  4\n",
      "  4  3  5  5  3  7  3  4  5  7  2  5 11  1 11  4  2  5  4  2  2  5  4  6\n",
      "  3  3  2  6  4  8  1  1  6  5  2  0  4  6  6  2  6  4  7  3  4  3  9  2\n",
      "  2  7  3  2  7  4  5  5  7  5  5  6  7  7  6  6  2  7  4  3  4  3  6  1\n",
      "  3  4  6  5  6  9  6  4  5  9  6  9  5  8  5  5  5  5  5  8  6  6  6  2\n",
      "  3  3  7  4  2  5  7  2  8  4  4  3  4  4  4  2  6  5  7  2  5  1  4  3\n",
      "  7  4  2  5  5  4  5  6  7  3  2  5  8  4  7  5  6  6  5  7  6  7  4  6\n",
      "  5  6  7  5  6  5  6  4  1  5  6  8  7  5  4  4  5  1  4  4  5  5  3  5\n",
      " 12  1  7  7  4  6  6  4  7  7  4  2  4  4  9  6  8  2 10  9  7  5  5  2\n",
      "  7  4  1  3 14  9  3  5  5  7  7  4 11  8  6  9  8  2  2  1  3  7  2  5\n",
      "  7  6  4  8  6  6  4  7  7  8  4  5  4  5  3  3  4  6  3  3  3  7  5  8\n",
      "  6  3  3  3  4  6  4  4  2  6  7  8 11  8  7  5  6  7  2  5  3  4  3  3\n",
      "  8  3  4  6  5  4  3  1  6  7  2  6  6  5  5  7 11  3  6  3  4  3 12  7\n",
      "  4  3 12  6 10 10  8  1  6  4  9  3  6  8  3  5]\n"
     ]
    }
   ],
   "source": [
    "x = random.poisson(lam=5, size=1000)\n",
    "print(x)"
   ]
  },
  {
   "cell_type": "markdown",
   "id": "385e4f13-cbb6-4800-a8b8-4e3cfe6097ec",
   "metadata": {},
   "source": [
    "# II)"
   ]
  },
  {
   "cell_type": "code",
   "execution_count": null,
   "id": "ce3d16b1-0530-4462-ae49-c1a671e9c8ab",
   "metadata": {},
   "outputs": [],
   "source": []
  },
  {
   "cell_type": "markdown",
   "id": "0cdc2369-568d-400b-b03c-1ed8a786770b",
   "metadata": {},
   "source": [
    "# iii)"
   ]
  },
  {
   "cell_type": "code",
   "execution_count": 33,
   "id": "8e54f4c5-5150-4412-a24f-1ca32921cf1d",
   "metadata": {},
   "outputs": [
    {
     "data": {
      "text/plain": [
       "<Axes: ylabel='Count'>"
      ]
     },
     "execution_count": 33,
     "metadata": {},
     "output_type": "execute_result"
    },
    {
     "data": {
      "image/png": "[encoded data removed]",
      "text/plain": [
       "<Figure size 640x480 with 1 Axes>"
      ]
     },
     "metadata": {},
     "output_type": "display_data"
    }
   ],
   "source": [
    "poisson_data=random.poisson(lam=5, size=1000)\n",
    "sns.histplot(poisson_data,bins=10,kde=False,color=\"purple\")                                "
   ]
  },
  {
   "cell_type": "code",
   "execution_count": null,
   "id": "94d26439-5dfc-43cb-9df2-e01a885872d0",
   "metadata": {},
   "outputs": [],
   "source": []
  },
  {
   "cell_type": "code",
   "execution_count": null,
   "id": "b081ecd9-2c48-4bcc-a0d1-1e07c50fd7df",
   "metadata": {},
   "outputs": [],
   "source": []
  }
 ],
 "metadata": {
  "kernelspec": {
   "display_name": "Python 3 (ipykernel)",
   "language": "python",
   "name": "python3"
  },
  "language_info": {
   "codemirror_mode": {
    "name": "ipython",
    "version": 3
   },
   "file_extension": ".py",
   "mimetype": "text/x-python",
   "name": "python",
   "nbconvert_exporter": "python",
   "pygments_lexer": "ipython3",
   "version": "3.12.6"
  }
 },
 "nbformat": 4,
 "nbformat_minor": 5
}
