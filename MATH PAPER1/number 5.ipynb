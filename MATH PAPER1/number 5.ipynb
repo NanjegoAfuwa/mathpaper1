{
 "cells": [
  {
   "cell_type": "code",
   "execution_count": 55,
   "id": "ad737881-b7b6-4ae7-9a4c-5a4c413347e4",
   "metadata": {},
   "outputs": [],
   "source": [
    "import numpy as np"
   ]
  },
  {
   "cell_type": "code",
   "execution_count": 56,
   "id": "542f0adf-57f9-4ec5-830e-3e8ab61040a9",
   "metadata": {},
   "outputs": [],
   "source": [
    "import pandas as pd"
   ]
  },
  {
   "cell_type": "code",
   "execution_count": 57,
   "id": "2911dd3f-549d-4865-ad57-cb8436c57df3",
   "metadata": {},
   "outputs": [
    {
     "name": "stdout",
     "output_type": "stream",
     "text": [
      "[[1.  0.2 0.5]\n",
      " [0.2 1.  0.8]\n",
      " [0.5 0.8 1. ]]\n"
     ]
    }
   ],
   "source": [
    "matrix_x = np.array ([[1, 0.2,0.5], [0.2,1,0.8],[0.5, 0.8 ,1]])\n",
    "print(matrix_x)"
   ]
  },
  {
   "cell_type": "markdown",
   "id": "b61d496f-993c-4140-a679-ec7f7a5b32e1",
   "metadata": {},
   "source": [
    "# I )"
   ]
  },
  {
   "cell_type": "code",
   "execution_count": 58,
   "id": "99e42d91-73e9-41c7-bf6f-b6cfd92294e5",
   "metadata": {},
   "outputs": [
    {
     "data": {
      "text/plain": [
       "array([[1. , 0.2, 0.5],\n",
       "       [0.2, 1. , 0.8],\n",
       "       [0.5, 0.8, 1. ]])"
      ]
     },
     "execution_count": 58,
     "metadata": {},
     "output_type": "execute_result"
    }
   ],
   "source": [
    "matrix_x.T                      #changing the rows into columns "
   ]
  },
  {
   "cell_type": "markdown",
   "id": "03f808df-33c6-4fa1-9a44-cf3fc7af6f7b",
   "metadata": {},
   "source": [
    "# ii )"
   ]
  },
  {
   "cell_type": "code",
   "execution_count": 59,
   "id": "425b6ad6-df05-4c76-9cd9-871c7e3c720c",
   "metadata": {},
   "outputs": [
    {
     "name": "stdout",
     "output_type": "stream",
     "text": [
      "0.2299999999999999\n"
     ]
    }
   ],
   "source": [
    "matrix_det = np.linalg.det(matrix_x)\n",
    "print(matrix_det)"
   ]
  },
  {
   "cell_type": "markdown",
   "id": "f792c5c0-7099-48b8-afa3-a8a4a01b0696",
   "metadata": {},
   "source": [
    "# iv)"
   ]
  },
  {
   "cell_type": "code",
   "execution_count": 60,
   "id": "c77acdee-814c-46ad-b1bd-f252520ac875",
   "metadata": {},
   "outputs": [
    {
     "data": {
      "text/plain": [
       "(3, 3)"
      ]
     },
     "execution_count": 60,
     "metadata": {},
     "output_type": "execute_result"
    }
   ],
   "source": [
    "matrix_x.shape"
   ]
  },
  {
   "cell_type": "code",
   "execution_count": 68,
   "id": "694f62d3-b936-4f3b-a7b8-a8ba386c73d4",
   "metadata": {},
   "outputs": [
    {
     "ename": "SyntaxError",
     "evalue": "invalid syntax. Maybe you meant '==' or ':=' instead of '='? (249774313.py, line 1)",
     "output_type": "error",
     "traceback": [
      "\u001b[1;36m  Cell \u001b[1;32mIn[68], line 1\u001b[1;36m\u001b[0m\n\u001b[1;33m    new_matrix = np.hstack(matrix_x,(1,2,3),(x=0))\u001b[0m\n\u001b[1;37m                                             ^\u001b[0m\n\u001b[1;31mSyntaxError\u001b[0m\u001b[1;31m:\u001b[0m invalid syntax. Maybe you meant '==' or ':=' instead of '='?\n"
     ]
    }
   ],
   "source": [
    "new_matrix = np.hstack(matrix_x,(1,2,3),(x=0))"
   ]
  },
  {
   "cell_type": "code",
   "execution_count": null,
   "id": "b9edd96f-3ecf-4975-b606-e19654c5928b",
   "metadata": {},
   "outputs": [],
   "source": []
  }
 ],
 "metadata": {
  "kernelspec": {
   "display_name": "Python 3 (ipykernel)",
   "language": "python",
   "name": "python3"
  },
  "language_info": {
   "codemirror_mode": {
    "name": "ipython",
    "version": 3
   },
   "file_extension": ".py",
   "mimetype": "text/x-python",
   "name": "python",
   "nbconvert_exporter": "python",
   "pygments_lexer": "ipython3",
   "version": "3.12.6"
  }
 },
 "nbformat": 4,
 "nbformat_minor": 5
}
